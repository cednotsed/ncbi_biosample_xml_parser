{
 "cells": [
  {
   "cell_type": "code",
   "execution_count": 1,
   "id": "65453329",
   "metadata": {},
   "outputs": [],
   "source": [
    "import xml.etree.ElementTree as ET\n",
    "import pandas as pd\n",
    "import numpy as np\n",
    "import time\n",
    "start_time = time.time()"
   ]
  },
  {
   "cell_type": "code",
   "execution_count": 2,
   "id": "8759bfe0",
   "metadata": {},
   "outputs": [],
   "source": [
    "out_path = 'biosample_metadata.with_title.tsv'"
   ]
  },
  {
   "cell_type": "code",
   "execution_count": 4,
   "id": "9860a599",
   "metadata": {},
   "outputs": [],
   "source": [
    "key_list = ['biosample', 'Title', 'sra_accession', 'collection_date', \n",
    "            'host', 'host_taxid', 'isolation_source', \n",
    "            'lab_host', 'geo_loc_name', 'lat_lon']\n",
    "# Create new file\n",
    "pd.DataFrame(columns=key_list).to_csv(out_path, sep='\\t', index=False)\n",
    "\n",
    "# Get generator\n",
    "gen = ET.iterparse('biosample_set.xml', events=(\"start\", \"end\"))\n",
    "\n",
    "# Initiatlise\n",
    "sample_count = 0\n",
    "dict_list = []\n",
    "chunk_size = 10000\n",
    "\n",
    "# Parse entries\n",
    "for event, elem in gen:\n",
    "    tag = elem.tag\n",
    "    value = elem.text\n",
    "    attrib_dict = elem.attrib\n",
    "    \n",
    "    # Start new entry for each biosample\n",
    "    if event == 'start' and tag == 'BioSample':\n",
    "        bs_dict = {key: None for key in key_list}\n",
    "    \n",
    "    # Get IDs\n",
    "    if event == 'start' and tag == 'Id':\n",
    "        if value is not None:\n",
    "            if value.startswith('SAM'):\n",
    "                bs_dict['biosample'] = value\n",
    "            elif value.startswith(\"SR\"):\n",
    "                bs_dict['sra_accession'] = value\n",
    "    \n",
    "    # Biosample title\n",
    "    if event == 'start' and tag == 'Title':\n",
    "        bs_dict[tag] = value\n",
    "    \n",
    "    # Other attributes\n",
    "    if event == 'start' and tag == 'Attribute':\n",
    "        attrib_key = elem.attrib.get(\"harmonized_name\")\n",
    "        if attrib_key in key_list:\n",
    "            bs_dict[attrib_key] = value\n",
    "            \n",
    "    if event == 'end' and tag =='BioSample':\n",
    "        if bs_dict['host'] is None and bs_dict['host_taxid'] is None:\n",
    "            pass\n",
    "        else:\n",
    "            # Write file every $chunk_size iterations\n",
    "            if sample_count <= chunk_size:\n",
    "                dict_list.append(bs_dict)\n",
    "                sample_count = sample_count + 1\n",
    "            else:\n",
    "                temp = pd.DataFrame(dict_list)\n",
    "                temp.to_csv(out_path, mode='a', header=False, sep='\\t', index=False)\n",
    "                \n",
    "                # Reset counters\n",
    "                sample_count = 0\n",
    "                dict_list = []\n",
    "        \n",
    "    elem.clear()\n",
    "    \n",
    "# Final chunk\n",
    "temp = pd.DataFrame(dict_list)\n",
    "temp.to_csv(out_path, mode='a', header=False, sep='\\t', index=False)    "
   ]
  },
  {
   "cell_type": "code",
   "execution_count": 5,
   "id": "61e69bd6",
   "metadata": {},
   "outputs": [],
   "source": [
    "time_taken = (time.time()-start_time) / 60 / 60 "
   ]
  },
  {
   "cell_type": "code",
   "execution_count": 6,
   "id": "b9574670",
   "metadata": {},
   "outputs": [
    {
     "name": "stdout",
     "output_type": "stream",
     "text": [
      "Script took: 1.031504081222746 hrs\n"
     ]
    }
   ],
   "source": [
    "print(f'Script took: {time_taken} hrs')"
   ]
  },
  {
   "cell_type": "code",
   "execution_count": 7,
   "id": "0bad5040",
   "metadata": {},
   "outputs": [
    {
     "data": {
      "text/plain": [
       "51.0"
      ]
     },
     "execution_count": 7,
     "metadata": {},
     "output_type": "execute_result"
    }
   ],
   "source": [
    "0.85*60"
   ]
  }
 ],
 "metadata": {
  "kernelspec": {
   "display_name": "Python [conda env:mashin] *",
   "language": "python",
   "name": "conda-env-mashin-py"
  },
  "language_info": {
   "codemirror_mode": {
    "name": "ipython",
    "version": 3
   },
   "file_extension": ".py",
   "mimetype": "text/x-python",
   "name": "python",
   "nbconvert_exporter": "python",
   "pygments_lexer": "ipython3",
   "version": "3.10.10"
  }
 },
 "nbformat": 4,
 "nbformat_minor": 5
}
